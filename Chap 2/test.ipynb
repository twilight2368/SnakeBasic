{
 "cells": [
  {
   "cell_type": "code",
   "execution_count": 1,
   "metadata": {},
   "outputs": [
    {
     "name": "stdout",
     "output_type": "stream",
     "text": [
      "[[4, 'sword'], [4, 'rubber duck'], [4, 'parachute'], [1, 'laser cannon'], [4, 'slice of pizza'], [1, 'cannon'], [1, 'Canon 90D'], [1, 'can of soup']]\n"
     ]
    }
   ],
   "source": [
    "backpack = [\"sword\", \"rubber duck\", \"slice of pizza\", \"parachute\",\n",
    "\"sword\", \"rubber duck\", \"slice of pizza\", \"parachute\", \n",
    "\"sword\", \"rubber duck\", \"slice of pizza\", \"parachute\", \n",
    "\"sword\", \"rubber duck\", \"slice of pizza\", \"parachute\",\n",
    "\"cannon\", \"laser cannon\", \"Canon 90D\", \"can of soup\"]\n",
    "\n",
    "counts = [[backpack.count(item), item] for item in set(backpack)]\n",
    "\n",
    "print(counts)"
   ]
  },
  {
   "cell_type": "code",
   "execution_count": null,
   "metadata": {},
   "outputs": [],
   "source": []
  }
 ],
 "metadata": {
  "kernelspec": {
   "display_name": "base",
   "language": "python",
   "name": "python3"
  },
  "language_info": {
   "codemirror_mode": {
    "name": "ipython",
    "version": 3
   },
   "file_extension": ".py",
   "mimetype": "text/x-python",
   "name": "python",
   "nbconvert_exporter": "python",
   "pygments_lexer": "ipython3",
   "version": "3.11.4"
  },
  "orig_nbformat": 4
 },
 "nbformat": 4,
 "nbformat_minor": 2
}
