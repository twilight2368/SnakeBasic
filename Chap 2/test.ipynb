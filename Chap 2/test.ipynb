{
 "cells": [
  {
   "cell_type": "code",
   "execution_count": 3,
   "metadata": {},
   "outputs": [
    {
     "name": "stdout",
     "output_type": "stream",
     "text": [
      "[[1, 'cannon'], [1, 'Canon 90D'], [4, 'slice of pizza'], [4, 'sword'], [4, 'rubber duck'], [1, 'can of soup'], [4, 'parachute'], [1, 'laser cannon']]\n"
     ]
    }
   ],
   "source": [
    "backpack = [\"sword\", \"rubber duck\", \"slice of pizza\", \"parachute\",\n",
    "            \"sword\", \"rubber duck\", \"slice of pizza\", \"parachute\",\n",
    "            \"sword\", \"rubber duck\", \"slice of pizza\", \"parachute\",\n",
    "            \"sword\", \"rubber duck\", \"slice of pizza\", \"parachute\",\n",
    "            \"cannon\", \"laser cannon\", \"Canon 90D\", \"can of soup\"]\n",
    "\n",
    "counts = [[backpack.count(item), item] for item in set(backpack)]\n",
    "\n",
    "print(counts)"
   ]
  },
  {
   "cell_type": "code",
   "execution_count": null,
   "metadata": {},
   "outputs": [],
   "source": [
    "age = 5\n",
    "stuff = [True, False, 0, -1, \"0\", \"1\", \"10\", age < 30, \"20\", \"2\", \"5\", \"9001\", \"5.5\", \"6.0\", 6]\n",
    "print(sorted(stuff, key=float))"
   ]
  },
  {
   "cell_type": "code",
   "execution_count": null,
   "metadata": {},
   "outputs": [],
   "source": [
    "available_toppings = ['mushrooms', 'olives', 'green peppers',\n",
    "                      'pepperoni', 'pineapple', 'extra cheese']\n",
    "requested_toppings = ['mushrooms', 'french fries', 'extra cheese']\n",
    "\n",
    "for requested_topping in requested_toppings:\n",
    "    if requested_topping in available_toppings:\n",
    "        print(\"Adding \" + requested_topping + \".\")\n",
    "    else:\n",
    "        print(\"Sorry, we don't have \" + requested_topping + \".\")\n",
    "\n",
    "print(\"Finished making your pizza!\")"
   ]
  },
  {
   "cell_type": "code",
   "execution_count": null,
   "metadata": {},
   "outputs": [],
   "source": [
    "array = [1, 3, 2, 6, 5]\n",
    "array.sort()\n",
    "print(array)\n",
    "array = [1, 3, 2, 6, 5]\n",
    "print(sorted(array))"
   ]
  },
  {
   "cell_type": "code",
   "execution_count": null,
   "metadata": {},
   "outputs": [],
   "source": [
    "print(str(1 < 2) + \" OH\")"
   ]
  },
  {
   "cell_type": "code",
   "execution_count": null,
   "metadata": {},
   "outputs": [],
   "source": [
    "msg = 'Hello world'\n",
    "frr = msg.split()\n",
    "print(frr)"
   ]
  },
  {
   "cell_type": "code",
   "execution_count": null,
   "metadata": {},
   "outputs": [],
   "source": [
    "mess = \"\"\"I want to\n",
    "say Hello \"\"\"\n",
    "new = mess.split('\\n')\n",
    "print(new)\n",
    "mess = \"\"\"I want to \\\n",
    "say Hello \"\"\"\n",
    "new = mess.split('\\n')\n",
    "print(new)"
   ]
  },
  {
   "cell_type": "code",
   "execution_count": null,
   "metadata": {},
   "outputs": [],
   "source": [
    "var = input()\n",
    "print(var == '')\n",
    "   "
   ]
  },
  {
   "cell_type": "code",
   "execution_count": null,
   "metadata": {},
   "outputs": [],
   "source": [
    "i = {1, 4, 5}\n",
    "print(id(i))"
   ]
  },
  {
   "cell_type": "markdown",
   "metadata": {},
   "source": [
    "# Homework"
   ]
  },
  {
   "cell_type": "code",
   "execution_count": null,
   "metadata": {},
   "outputs": [],
   "source": [
    "users = ['hhh', 'bbb', 'ccc', 'ddd', 'admin']\n",
    "login = ''\n",
    "\n",
    "if users:\n",
    "    login = input()\n",
    "    for user in users:\n",
    "        if login == user:\n",
    "            if user == 'admin':\n",
    "                print('Hello ' + user + ', would you like to see a status report?')\n",
    "                break\n",
    "            else: \n",
    "                print('Hello ' + user + ', thank you for logging in again.')\n",
    "                break\n",
    "        else:\n",
    "            continue\n",
    "    else: \n",
    "        print('user not found')\n",
    "\n",
    "if login == 'admin':\n",
    "    resquest = input()\n",
    "    if int(resquest) == 1:\n",
    "        for user in users[:]:\n",
    "            if user != 'admin':\n",
    "                users.remove(user)\n",
    "            else: \n",
    "                continue\n",
    "\n",
    "\n",
    "print('Users in list: ',users)"
   ]
  },
  {
   "cell_type": "code",
   "execution_count": null,
   "metadata": {},
   "outputs": [],
   "source": [
    "crr_users = ['admin', 'John', 'Becky', 'Louis', 'HIro']\n",
    "new_users = ['Indiana', 'Jack', 'john', 'becky']\n",
    "\n",
    "for new_user in new_users:\n",
    "    for crr_user in crr_users:\n",
    "        if new_user.lower() == crr_user.lower():\n",
    "            print(new_user, 'has been used, need input new one')\n",
    "            break\n",
    "    else:\n",
    "        print(new_user, 'is available')\n",
    "    \n",
    "            \n",
    "    "
   ]
  },
  {
   "cell_type": "code",
   "execution_count": null,
   "metadata": {},
   "outputs": [],
   "source": [
    "for i in range(1,10):\n",
    "    if i == 1:\n",
    "        print(str(i) + 'st', end=\" \")\n",
    "    elif i == 2:\n",
    "        print(str(i) + 'nd', end=\" \")\n",
    "    elif i == 3:\n",
    "        print(str(i) + 'rd', end=\" \")\n",
    "    else:\n",
    "        print(str(i) + 'th', end=\" \")\n",
    "print()"
   ]
  },
  {
   "cell_type": "code",
   "execution_count": null,
   "metadata": {},
   "outputs": [],
   "source": [
    "stack = [1,2,3]\n",
    "stack.append(4)\n",
    "print(stack)\n",
    "stack.pop()\n",
    "print(stack)\n",
    "\n",
    "queue = [1,2,3]\n",
    "queue.append(4)\n",
    "print(queue)\n",
    "queue.pop(0)\n",
    "print(queue)"
   ]
  },
  {
   "cell_type": "code",
   "execution_count": null,
   "metadata": {},
   "outputs": [],
   "source": [
    "print(int('1'))"
   ]
  },
  {
   "cell_type": "code",
   "execution_count": null,
   "metadata": {},
   "outputs": [],
   "source": [
    "import math\n",
    "import random\n",
    "import pandas\n",
    "import numpy\n",
    "\n",
    "print(numpy)\n",
    "print(pandas)\n",
    "\n",
    "print(random)\n",
    "import matplotlib\n",
    "print(matplotlib)"
   ]
  },
  {
   "cell_type": "code",
   "execution_count": 4,
   "metadata": {},
   "outputs": [
    {
     "data": {
      "image/png": "[encoded data removed]",
      "text/plain": [
       "<Figure size 640x480 with 1 Axes>"
      ]
     },
     "metadata": {},
     "output_type": "display_data"
    }
   ],
   "source": [
    "import matplotlib as mpl\n",
    "import matplotlib.pyplot as plt\n",
    "mpl.rcParams['font.family'] = 'serif'\n",
    "\n",
    "import numpy as np\n",
    "np.random.seed(1000)\n",
    "y = np.random.standard_normal(20)\n",
    "x = np.arange(len(y))\n",
    "plt.plot(x, y);"
   ]
  },
  {
   "cell_type": "code",
   "execution_count": 7,
   "metadata": {},
   "outputs": [
    {
     "name": "stdout",
     "output_type": "stream",
     "text": [
      "{'hello': 'wuw', 'world': 123, (5, 5): 'chimpazee', 'array': [1, 2, 3]}\n",
      "<class 'tuple'>\n",
      "dict_items([('hello', 'wuw'), ('world', 123), ((5, 5), 'chimpazee'), ('array', [1, 2, 3])])\n"
     ]
    }
   ],
   "source": [
    "email = {\n",
    "    \"hello\" : \"wuw\",\n",
    "    \"world\" : \"uwu\",\n",
    "    (5,5): \"chimpazee\",\n",
    "    \"world\": 123,\n",
    "    'array': [1,2,3]\n",
    "}\n",
    "#key is hashable\n",
    "print(email)\n",
    "print(type((5,5)))\n",
    "print(email.items())\n"
   ]
  }
 ],
 "metadata": {
  "kernelspec": {
   "display_name": "base",
   "language": "python",
   "name": "python3"
  },
  "language_info": {
   "codemirror_mode": {
    "name": "ipython",
    "version": 3
   },
   "file_extension": ".py",
   "mimetype": "text/x-python",
   "name": "python",
   "nbconvert_exporter": "python",
   "pygments_lexer": "ipython3",
   "version": "3.11.4"
  },
  "orig_nbformat": 4
 },
 "nbformat": 4,
 "nbformat_minor": 2
}
